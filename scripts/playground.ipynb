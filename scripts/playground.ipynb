{
 "cells": [
  {
   "cell_type": "code",
   "execution_count": 2,
   "metadata": {},
   "outputs": [],
   "source": [
    "import pypdf\n",
    "from pypdf import PdfReader"
   ]
  },
  {
   "cell_type": "code",
   "execution_count": 3,
   "metadata": {},
   "outputs": [],
   "source": [
    "reader = PdfReader(\"../data/The_Hate_U_Give.pdf\")"
   ]
  },
  {
   "cell_type": "code",
   "execution_count": 5,
   "metadata": {},
   "outputs": [
    {
     "data": {
      "text/plain": [
       "'weeks, decide she wants one more hit, then be back at it. But like I said, I’m good, Cameron’s good,\\nGrandma’s good.” He shrugs. “That’s all that matters.”\\n“Yeah,” I say, but I remember the nights I spent with Khalil on his porch, waiting for his momma to\\ncome home. Whether he likes it or not, she matters to him too.\\nThe music changes, and Drake raps from the speakers. I nod to the beat and rap along under my breath.\\nEverybody on the dance floor yells out the “started from the bottom, now we’re here” part. Some days,\\nwe \\nare\\n at the bottom in Garden Heights, but we still share the feeling that damn, it could be worse.\\nKhalil is watching me. A smile tries to form on his lips, but he shakes his head. “Can’t believe you\\nstill love whiny-ass Drake.”\\nI gape at him. “Leave my husband alone!”\\n“Your \\ncorny\\n husband. ‘Baby, you my everything, you all I ever wanted,’” Khalil sings in a whiny\\nvoice. I push him with \\nmy shoulder, and he laughs, his drink splashing over the sides of the cup. “You\\nknow that’s what he sounds like!”\\nI flip him off. He puckers his lips and makes a kissing sound. All these months apart, and we’ve fallen\\nback into normal like it’s nothing.\\nKhalil grabs a napkin from the coffee table and wipes drink off his Jordans—the Three Retros. They\\ncame out a few years ago, but I swear those things are so fresh. They cost about three hundred dollars, and\\nthat’s if you find somebody on eBay who goes easy. Chris did. I got mine for a steal at one-fifty, but I\\nwear kid sizes. Thanks to my small feet, Chris and I can match our sneakers. Yes, we’re \\nthat\\n couple. Shit,\\nwe’re fly though. If he can stop doing stupid stuff, we’ll really be good.\\n“I like the kicks,” I tell Khalil.\\n“Thanks.” He scrubs the shoes with his napkin. I cringe. With each hard rub, the shoes cry for my help.\\nNo lie, every time a sneaker is cleaned improperly, a kitten dies.\\n“Khalil,” I say, one second away from snatching that napkin. “Either wipe gently back and forth or\\ndab. Don’t scrub. For real.”\\nHe looks up at me, smirking. “Okay, Ms. Sneakerhead.” And thank Black Jesus, he dabs. “Since you\\nmade me spill my drink on them, I oughta make you clean them.”\\n“It’ll cost you sixty dollars.”\\n“Sixty?” he shouts, straightening up.\\n“Hell, yeah. And it would be eighty if they had icy soles.” \\nClear bottoms are a bitch to clean.\\n“Cleaning kits aren’t cheap. Besides, you’re obviously making big money if you can buy those.”\\nKhalil sips his drink like I didn’t say anything, mutters, “Damn, this shit strong,” and sets the cup on\\nthe coffee table. “Ay, tell your pops I need to holla at him soon. Some stuff going down that I need to talk\\nto him ’bout.”\\n“What kinda stuff?”\\n“Grown folks business.”\\n“Yeah, ’cause you’re so grown.”\\n“Five months, two weeks, and three days older than you.” He winks. “I ain’t forgot.”\\nA commotion stirs in the middle of the dance floor. Voices argue louder than the music. Cuss words fly\\nleft and right.\\nMy first thought? Kenya walked up on Denasia like she promised. But the voices are deeper than\\ntheirs.\\nPop!\\n A shot rings out. I duck.\\nPop!\\n A second shot. The crowd stampedes toward the door, which leads to more cussing and fighting\\nsince it’s impossible for everybody to get out at once.'"
      ]
     },
     "execution_count": 5,
     "metadata": {},
     "output_type": "execute_result"
    }
   ],
   "source": [
    "reader.pages[10].extract_text().replace(\"\\t\", \" \")"
   ]
  },
  {
   "cell_type": "markdown",
   "metadata": {},
   "source": []
  }
 ],
 "metadata": {
  "kernelspec": {
   "display_name": "Pytorch",
   "language": "python",
   "name": "python3"
  },
  "language_info": {
   "codemirror_mode": {
    "name": "ipython",
    "version": 3
   },
   "file_extension": ".py",
   "mimetype": "text/x-python",
   "name": "python",
   "nbconvert_exporter": "python",
   "pygments_lexer": "ipython3",
   "version": "3.10.14"
  }
 },
 "nbformat": 4,
 "nbformat_minor": 2
}
